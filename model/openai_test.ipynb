{
 "cells": [
  {
   "cell_type": "code",
   "execution_count": 3,
   "id": "initial_id",
   "metadata": {
    "collapsed": true,
    "ExecuteTime": {
     "end_time": "2024-02-22T01:02:02.525343800Z",
     "start_time": "2024-02-22T01:02:01.337946700Z"
    }
   },
   "outputs": [],
   "source": [
    "from table_item import TableItem\n",
    "from openai import OpenAI\n",
    "\n",
    "class TableItem:\n",
    "    \"\"\"\n",
    "    TableItem class to represent a column or measure in a table.\n",
    "    \"\"\"\n",
    "\n",
    "    def __init__(self, table_item_id: str, name: str, table_item_type: str = 'column', data_type: str = None, format_string: str = None,\n",
    "                 display_folder: str = None, is_hidden: bool = False, expression: list = None):\n",
    "        \"\"\"\n",
    "        Constructor of the class\n",
    "        :param table_item_id: id of the table item\n",
    "        :param name: name of the table item\n",
    "        :param table_item_type: type of the table item, can be 'column', 'calculated' or 'measure'\n",
    "        :param data_type: type of the data, e.g. 'String', 'Integer', 'date', etc.\n",
    "        :param format_string: the format method for measures\n",
    "        :param display_folder: the folder where the table item is displayed\n",
    "        :param is_hidden: if the table item is hidden\n",
    "        :param expression: the definition of the measure or calculated column. It is a list of string lines.\n",
    "        \"\"\"\n",
    "        self.table_item_id: str = table_item_id\n",
    "        self.name: str = name\n",
    "        self.table_item_type: str = table_item_type\n",
    "        self.data_type: str = data_type\n",
    "        self.format_string: str = format_string\n",
    "        self.display_folder: str = display_folder\n",
    "        self.is_hidden: bool = is_hidden\n",
    "        self.expression: list = expression\n",
    "\n",
    "    def __str__(self):\n",
    "        \"\"\"\n",
    "        Method to return a string representation of the table item\n",
    "        :return: string\n",
    "        \"\"\"\n",
    "        result = ''\n",
    "        result += f'Name: {self.name}\\n'\n",
    "        result += f'Type: {self.table_item_type}\\n'\n",
    "        result += f'Data Type: {self.data_type}\\n'\n",
    "        result += f'Format String: {self.format_string}\\n'\n",
    "        result += f'Display Folder: {self.display_folder}\\n'\n",
    "        result += f'Is Hidden: {self.is_hidden}\\n'\n",
    "        result += f'Expression: {self.expression}\\n'\n",
    "        return result\n"
   ]
  },
  {
   "cell_type": "code",
   "outputs": [],
   "source": [
    "table_item = TableItem('1', 'Variação CPL', 'measure')\n",
    "table_item.expression = [\n",
    "'var divisao =DIVIDE([CPL Ult 7d], [CPL Ult 8 - 14d])',\n",
    "'return IF(ISBLANK([CPL Ult 7d]) && not ISBLANK([CPL Ult 8 - 14d]), 999, IF(not ISBLANK([CPL Ult 7d]) && ISBLANK([CPL Ult 8 - 14d]), 1, IF(ISBLANK([CPL Ult 7d]) && ISBLANK([CPL Ult 8 - 14d]), 0, divisao-1)))'\n",
    "]\n",
    "\n",
    "    "
   ],
   "metadata": {
    "collapsed": false,
    "ExecuteTime": {
     "end_time": "2024-02-22T01:08:30.287585300Z",
     "start_time": "2024-02-22T01:08:30.260551200Z"
    }
   },
   "id": "68ec2a6e12f2b183",
   "execution_count": 6
  },
  {
   "cell_type": "code",
   "outputs": [],
   "source": [
    "with open ('openai-key.txt', 'r') as file:\n",
    "    client = OpenAI(api_key=file.read())\n",
    "\n",
    "expression = '\\n'.join(table_item.expression)\n",
    "completion = client.chat.completions.create(\n",
    "    model=\"gpt-3.5-turbo\",\n",
    "    messages=[\n",
    "        {\"role\": \"system\",\n",
    "         \"content\": \"You respond objectively about dax measures\"},\n",
    "        {\"role\": \"user\", \n",
    "         \"content\": f\"Explique resumidamente a medida '{table_item.name}': `{expression}`\"}\n",
    "    ],\n",
    "    max_tokens=200\n",
    ")"
   ],
   "metadata": {
    "collapsed": false,
    "ExecuteTime": {
     "end_time": "2024-02-22T01:10:53.525883200Z",
     "start_time": "2024-02-22T01:10:49.129231Z"
    }
   },
   "id": "3550c1b1f0d0c769",
   "execution_count": 19
  },
  {
   "cell_type": "code",
   "outputs": [],
   "source": [
    "m = completion.choices[0].message.content"
   ],
   "metadata": {
    "collapsed": false,
    "ExecuteTime": {
     "end_time": "2024-02-22T01:10:53.543316500Z",
     "start_time": "2024-02-22T01:10:53.526882500Z"
    }
   },
   "id": "2e9100334339ec84",
   "execution_count": 20
  },
  {
   "cell_type": "code",
   "outputs": [
    {
     "name": "stdout",
     "output_type": "stream",
     "text": [
      "A medida 'Variação CPL' é calculada dividindo o valor de CPL (custo por lead) nos últimos 7 dias pelo valor de CPL nos dias 8 a 14 atrás. A fórmula lida com diferentes cenários de valores em branco: se o CPL dos últimos 7 dias estiver em branco e o CPL dos dias 8 a 14 dias não estiver em branco, retorna 999; se o CPL dos últimos 7 dias não estiver em branco e o CPL dos dias 8 a 14 dias estiver em branco, retorna 1; se ambos os valores estiverem em branco, retorna 0; caso contrário, retorna a divisão dos valores menos 1. Essa medida ajuda a entender a variação entre o CPL recente e o CPL mais antigo em um determinado período.\n"
     ]
    },
    {
     "data": {
      "text/plain": "\"A medida 'Variação CPL' é calculada dividindo o valor de CPL (custo por lead) nos últimos 7 dias pelo valor de CPL nos dias 8 a 14 atrás. A fórmula lida com diferentes cenários de valores em branco: se o CPL dos últimos 7 dias estiver em branco e o CPL dos dias 8 a 14 dias não estiver em branco, retorna 999; se o CPL dos últimos 7 dias não estiver em branco e o CPL dos dias 8 a 14 dias estiver em branco, retorna 1; se ambos os valores estiverem em branco, retorna 0; caso contrário, retorna a divisão dos valores menos 1. Essa medida ajuda a entender a variação entre o CPL recente e o CPL mais antigo em um determinado período.\""
     },
     "execution_count": 21,
     "metadata": {},
     "output_type": "execute_result"
    }
   ],
   "source": [
    "print(m)\n",
    "m"
   ],
   "metadata": {
    "collapsed": false,
    "ExecuteTime": {
     "end_time": "2024-02-22T01:10:53.545316800Z",
     "start_time": "2024-02-22T01:10:53.533447Z"
    }
   },
   "id": "75593be58b06ae3f",
   "execution_count": 21
  },
  {
   "cell_type": "code",
   "outputs": [],
   "source": [],
   "metadata": {
    "collapsed": false
   },
   "id": "a959433c7e68e248"
  }
 ],
 "metadata": {
  "kernelspec": {
   "display_name": "Python 3",
   "language": "python",
   "name": "python3"
  },
  "language_info": {
   "codemirror_mode": {
    "name": "ipython",
    "version": 2
   },
   "file_extension": ".py",
   "mimetype": "text/x-python",
   "name": "python",
   "nbconvert_exporter": "python",
   "pygments_lexer": "ipython2",
   "version": "2.7.6"
  }
 },
 "nbformat": 4,
 "nbformat_minor": 5
}
